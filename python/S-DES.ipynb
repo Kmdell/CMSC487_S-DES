{
 "cells": [
  {
   "attachments": {},
   "cell_type": "markdown",
   "metadata": {},
   "source": [
    "# S-DES\n",
    "Name: Kyle Dell <br/>\n",
    "Class: CMSC487 <br/>\n",
    "Date: 2/17/2023 <br/>\n",
    "Professor: Edward Zieglar <br/>\n",
    "Email: kdell1@umbc.edu <br/>\n",
    "Description: Implentation of S-DES to show how the encryption algorithm works also meant for using with Meet in the Middle Attack"
   ]
  },
  {
   "cell_type": "code",
   "execution_count": 14,
   "metadata": {},
   "outputs": [],
   "source": [
    "from sdes import SDES"
   ]
  },
  {
   "cell_type": "code",
   "execution_count": 15,
   "metadata": {},
   "outputs": [
    {
     "name": "stdout",
     "output_type": "stream",
     "text": [
      "1011\n",
      "0111\n",
      "1111\n",
      "0000\n"
     ]
    }
   ],
   "source": [
    "s_des = SDES()\n",
    "s_des.set_plaintext(\"0xb7f0\")\n",
    "s_des.run_encryption()"
   ]
  }
 ],
 "metadata": {
  "kernelspec": {
   "display_name": "Python 3",
   "language": "python",
   "name": "python3"
  },
  "language_info": {
   "codemirror_mode": {
    "name": "ipython",
    "version": 3
   },
   "file_extension": ".py",
   "mimetype": "text/x-python",
   "name": "python",
   "nbconvert_exporter": "python",
   "pygments_lexer": "ipython3",
   "version": "3.10.6"
  },
  "orig_nbformat": 4,
  "vscode": {
   "interpreter": {
    "hash": "916dbcbb3f70747c44a77c7bcd40155683ae19c65e1c03b4aa3499c5328201f1"
   }
  }
 },
 "nbformat": 4,
 "nbformat_minor": 2
}
